{
  "nbformat": 4,
  "nbformat_minor": 0,
  "metadata": {
    "colab": {
      "name": "Final_v2.ipynb",
      "provenance": [],
      "collapsed_sections": []
    },
    "kernelspec": {
      "name": "python3",
      "display_name": "Python 3"
    },
    "language_info": {
      "name": "python"
    },
    "accelerator": "GPU"
  },
  "cells": [
    {
      "cell_type": "code",
      "execution_count": 186,
      "metadata": {
        "id": "ADUePg8abb7M"
      },
      "outputs": [],
      "source": [
        "import numpy as np\n",
        "import pandas as pd\n",
        "import math\n",
        "import keras\n",
        "import csv\n",
        "import io\n",
        "import tensorflow as tf\n",
        "import matplotlib.pyplot as plt\n",
        "\n",
        "from google.colab import files\n",
        "from tensorflow import keras\n",
        "from keras.models import Sequential\n",
        "from keras.layers import LSTM, Bidirectional\n",
        "from keras.layers import Dense\n",
        "from keras.layers import Dropout\n",
        "from keras.layers import Activation\n",
        "\n",
        "from sklearn.preprocessing import MinMaxScaler\n",
        "from sklearn.metrics import mean_squared_error"
      ]
    },
    {
      "cell_type": "code",
      "source": [
        "#uploaded = files.upload()"
      ],
      "metadata": {
        "id": "BgvudVw3bho8"
      },
      "execution_count": 187,
      "outputs": []
    },
    {
      "cell_type": "code",
      "source": [
        "data = pd.read_csv(io.BytesIO(uploaded['Bitstamp_BTCUSD_d.csv']), parse_dates=['date'])\n",
        "data = data.dropna()\n",
        "data = data.drop(columns=['symbol', 'unix', 'Volume BTC', 'Volume USD'])\n",
        "data_sort = data.sort_values('date') #sortiramo radi prikaza close vrednosti na grafu\n",
        "data_sort.head()"
      ],
      "metadata": {
        "id": "DlBxq3Q7iGYS",
        "colab": {
          "base_uri": "https://localhost:8080/",
          "height": 206
        },
        "outputId": "6a79a3fa-c1c3-4e8c-9066-7d717a2c314a"
      },
      "execution_count": 188,
      "outputs": [
        {
          "output_type": "execute_result",
          "data": {
            "text/plain": [
              "           date    open    high     low   close\n",
              "2731 2014-11-28  363.59  381.34  360.57  376.28\n",
              "2730 2014-11-29  376.42  386.60  372.25  376.72\n",
              "2729 2014-11-30  376.57  381.99  373.32  373.34\n",
              "2728 2014-12-01  376.40  382.31  373.03  378.39\n",
              "2727 2014-12-02  378.39  382.86  375.23  379.25"
            ],
            "text/html": [
              "\n",
              "  <div id=\"df-554b3e10-3f2b-4e4b-8338-e51d6d73924b\">\n",
              "    <div class=\"colab-df-container\">\n",
              "      <div>\n",
              "<style scoped>\n",
              "    .dataframe tbody tr th:only-of-type {\n",
              "        vertical-align: middle;\n",
              "    }\n",
              "\n",
              "    .dataframe tbody tr th {\n",
              "        vertical-align: top;\n",
              "    }\n",
              "\n",
              "    .dataframe thead th {\n",
              "        text-align: right;\n",
              "    }\n",
              "</style>\n",
              "<table border=\"1\" class=\"dataframe\">\n",
              "  <thead>\n",
              "    <tr style=\"text-align: right;\">\n",
              "      <th></th>\n",
              "      <th>date</th>\n",
              "      <th>open</th>\n",
              "      <th>high</th>\n",
              "      <th>low</th>\n",
              "      <th>close</th>\n",
              "    </tr>\n",
              "  </thead>\n",
              "  <tbody>\n",
              "    <tr>\n",
              "      <th>2731</th>\n",
              "      <td>2014-11-28</td>\n",
              "      <td>363.59</td>\n",
              "      <td>381.34</td>\n",
              "      <td>360.57</td>\n",
              "      <td>376.28</td>\n",
              "    </tr>\n",
              "    <tr>\n",
              "      <th>2730</th>\n",
              "      <td>2014-11-29</td>\n",
              "      <td>376.42</td>\n",
              "      <td>386.60</td>\n",
              "      <td>372.25</td>\n",
              "      <td>376.72</td>\n",
              "    </tr>\n",
              "    <tr>\n",
              "      <th>2729</th>\n",
              "      <td>2014-11-30</td>\n",
              "      <td>376.57</td>\n",
              "      <td>381.99</td>\n",
              "      <td>373.32</td>\n",
              "      <td>373.34</td>\n",
              "    </tr>\n",
              "    <tr>\n",
              "      <th>2728</th>\n",
              "      <td>2014-12-01</td>\n",
              "      <td>376.40</td>\n",
              "      <td>382.31</td>\n",
              "      <td>373.03</td>\n",
              "      <td>378.39</td>\n",
              "    </tr>\n",
              "    <tr>\n",
              "      <th>2727</th>\n",
              "      <td>2014-12-02</td>\n",
              "      <td>378.39</td>\n",
              "      <td>382.86</td>\n",
              "      <td>375.23</td>\n",
              "      <td>379.25</td>\n",
              "    </tr>\n",
              "  </tbody>\n",
              "</table>\n",
              "</div>\n",
              "      <button class=\"colab-df-convert\" onclick=\"convertToInteractive('df-554b3e10-3f2b-4e4b-8338-e51d6d73924b')\"\n",
              "              title=\"Convert this dataframe to an interactive table.\"\n",
              "              style=\"display:none;\">\n",
              "        \n",
              "  <svg xmlns=\"http://www.w3.org/2000/svg\" height=\"24px\"viewBox=\"0 0 24 24\"\n",
              "       width=\"24px\">\n",
              "    <path d=\"M0 0h24v24H0V0z\" fill=\"none\"/>\n",
              "    <path d=\"M18.56 5.44l.94 2.06.94-2.06 2.06-.94-2.06-.94-.94-2.06-.94 2.06-2.06.94zm-11 1L8.5 8.5l.94-2.06 2.06-.94-2.06-.94L8.5 2.5l-.94 2.06-2.06.94zm10 10l.94 2.06.94-2.06 2.06-.94-2.06-.94-.94-2.06-.94 2.06-2.06.94z\"/><path d=\"M17.41 7.96l-1.37-1.37c-.4-.4-.92-.59-1.43-.59-.52 0-1.04.2-1.43.59L10.3 9.45l-7.72 7.72c-.78.78-.78 2.05 0 2.83L4 21.41c.39.39.9.59 1.41.59.51 0 1.02-.2 1.41-.59l7.78-7.78 2.81-2.81c.8-.78.8-2.07 0-2.86zM5.41 20L4 18.59l7.72-7.72 1.47 1.35L5.41 20z\"/>\n",
              "  </svg>\n",
              "      </button>\n",
              "      \n",
              "  <style>\n",
              "    .colab-df-container {\n",
              "      display:flex;\n",
              "      flex-wrap:wrap;\n",
              "      gap: 12px;\n",
              "    }\n",
              "\n",
              "    .colab-df-convert {\n",
              "      background-color: #E8F0FE;\n",
              "      border: none;\n",
              "      border-radius: 50%;\n",
              "      cursor: pointer;\n",
              "      display: none;\n",
              "      fill: #1967D2;\n",
              "      height: 32px;\n",
              "      padding: 0 0 0 0;\n",
              "      width: 32px;\n",
              "    }\n",
              "\n",
              "    .colab-df-convert:hover {\n",
              "      background-color: #E2EBFA;\n",
              "      box-shadow: 0px 1px 2px rgba(60, 64, 67, 0.3), 0px 1px 3px 1px rgba(60, 64, 67, 0.15);\n",
              "      fill: #174EA6;\n",
              "    }\n",
              "\n",
              "    [theme=dark] .colab-df-convert {\n",
              "      background-color: #3B4455;\n",
              "      fill: #D2E3FC;\n",
              "    }\n",
              "\n",
              "    [theme=dark] .colab-df-convert:hover {\n",
              "      background-color: #434B5C;\n",
              "      box-shadow: 0px 1px 3px 1px rgba(0, 0, 0, 0.15);\n",
              "      filter: drop-shadow(0px 1px 2px rgba(0, 0, 0, 0.3));\n",
              "      fill: #FFFFFF;\n",
              "    }\n",
              "  </style>\n",
              "\n",
              "      <script>\n",
              "        const buttonEl =\n",
              "          document.querySelector('#df-554b3e10-3f2b-4e4b-8338-e51d6d73924b button.colab-df-convert');\n",
              "        buttonEl.style.display =\n",
              "          google.colab.kernel.accessAllowed ? 'block' : 'none';\n",
              "\n",
              "        async function convertToInteractive(key) {\n",
              "          const element = document.querySelector('#df-554b3e10-3f2b-4e4b-8338-e51d6d73924b');\n",
              "          const dataTable =\n",
              "            await google.colab.kernel.invokeFunction('convertToInteractive',\n",
              "                                                     [key], {});\n",
              "          if (!dataTable) return;\n",
              "\n",
              "          const docLinkHtml = 'Like what you see? Visit the ' +\n",
              "            '<a target=\"_blank\" href=https://colab.research.google.com/notebooks/data_table.ipynb>data table notebook</a>'\n",
              "            + ' to learn more about interactive tables.';\n",
              "          element.innerHTML = '';\n",
              "          dataTable['output_type'] = 'display_data';\n",
              "          await google.colab.output.renderOutput(dataTable, element);\n",
              "          const docLink = document.createElement('div');\n",
              "          docLink.innerHTML = docLinkHtml;\n",
              "          element.appendChild(docLink);\n",
              "        }\n",
              "      </script>\n",
              "    </div>\n",
              "  </div>\n",
              "  "
            ]
          },
          "metadata": {},
          "execution_count": 188
        }
      ]
    },
    {
      "cell_type": "code",
      "source": [
        "close_plot = data_sort.plot(x='date', y='close');\n",
        "close_plot.set_xlabel(\"Date\")\n",
        "close_plot.set_ylabel(\"Close Price (USD)\")"
      ],
      "metadata": {
        "id": "wy7ucpxZi72P",
        "colab": {
          "base_uri": "https://localhost:8080/",
          "height": 624
        },
        "outputId": "14591bce-4e0b-4508-c43a-64e17b817812"
      },
      "execution_count": 189,
      "outputs": [
        {
          "output_type": "execute_result",
          "data": {
            "text/plain": [
              "Text(0, 0.5, 'Close Price (USD)')"
            ]
          },
          "metadata": {},
          "execution_count": 189
        },
        {
          "output_type": "display_data",
          "data": {
            "text/plain": [
              "<Figure size 720x720 with 1 Axes>"
            ],
            "image/png": "[encoded data removed]"
          },
          "metadata": {
            "needs_background": "light"
          }
        }
      ]
    },
    {
      "cell_type": "code",
      "source": [
        "data = data[['close']]\n",
        "dataset = data.values\n",
        "dataset = dataset.astype('float32').reshape(-1, 1)\n",
        "dataset"
      ],
      "metadata": {
        "colab": {
          "base_uri": "https://localhost:8080/"
        },
        "id": "-JvnF8C9WG51",
        "outputId": "ee239e4e-028d-4028-94af-b897b5b868ec"
      },
      "execution_count": 190,
      "outputs": [
        {
          "output_type": "execute_result",
          "data": {
            "text/plain": [
              "array([[29248.11],\n",
              "       [29176.7 ],\n",
              "       [30290.33],\n",
              "       ...,\n",
              "       [  373.34],\n",
              "       [  376.72],\n",
              "       [  376.28]], dtype=float32)"
            ]
          },
          "metadata": {},
          "execution_count": 190
        }
      ]
    },
    {
      "cell_type": "code",
      "source": [
        "scaler = MinMaxScaler(feature_range=(0,1))\n",
        "dataset = scaler.fit_transform(dataset)"
      ],
      "metadata": {
        "id": "xx08tdpCkh7W"
      },
      "execution_count": 191,
      "outputs": []
    },
    {
      "cell_type": "code",
      "source": [
        "dataset"
      ],
      "metadata": {
        "id": "eSvr3zQnldxH",
        "colab": {
          "base_uri": "https://localhost:8080/"
        },
        "outputId": "f1b6fe32-afd6-45ce-c67e-f1202abfb391"
      },
      "execution_count": 192,
      "outputs": [
        {
          "output_type": "execute_result",
          "data": {
            "text/plain": [
              "array([[0.43156385],\n",
              "       [0.4305043 ],\n",
              "       [0.44702774],\n",
              "       ...,\n",
              "       [0.00313575],\n",
              "       [0.0031859 ],\n",
              "       [0.00317937]], dtype=float32)"
            ]
          },
          "metadata": {},
          "execution_count": 192
        }
      ]
    },
    {
      "cell_type": "code",
      "source": [
        "dataset.shape"
      ],
      "metadata": {
        "id": "Ksl6Jn1glo1w",
        "colab": {
          "base_uri": "https://localhost:8080/"
        },
        "outputId": "a17ed159-436c-4ecd-de9a-14082b74e943"
      },
      "execution_count": 193,
      "outputs": [
        {
          "output_type": "execute_result",
          "data": {
            "text/plain": [
              "(2732, 1)"
            ]
          },
          "metadata": {},
          "execution_count": 193
        }
      ]
    },
    {
      "cell_type": "code",
      "source": [
        "train_test_split = 0.8\n",
        "\n",
        "num_train = int(train_test_split * dataset.shape[0]) #broj za trening je % za train split * broj redova\n",
        "train = dataset[:num_train, :]\n",
        "test = dataset[num_train:, :]\n",
        "print(len(train), len(test))"
      ],
      "metadata": {
        "id": "HCNJ5TlOqSFa",
        "colab": {
          "base_uri": "https://localhost:8080/"
        },
        "outputId": "7ca30ef1-bcc6-4cbb-a42f-2888a7244e93"
      },
      "execution_count": 194,
      "outputs": [
        {
          "output_type": "stream",
          "name": "stdout",
          "text": [
            "2185 547\n"
          ]
        }
      ]
    },
    {
      "cell_type": "code",
      "source": [
        "def preprocess(data_raw, seq_len):\n",
        "  dataX, dataY = [], []\n",
        "  for i in range(len(data_raw)-seq_len-1):\n",
        "    \n",
        "    dataX.append(data_raw[i: i+seq_len])\n",
        "    dataY.append(data_raw[i:(i+seq_len), 0])\n",
        "\n",
        "  return np.array(dataX), np.array(dataY)"
      ],
      "metadata": {
        "id": "PoFGyIger6nz"
      },
      "execution_count": 195,
      "outputs": []
    },
    {
      "cell_type": "code",
      "source": [
        "X_train, y_train = preprocess(dataset, 10)\n",
        "X_test, y_test = preprocess(dataset, 10)"
      ],
      "metadata": {
        "id": "OB-pFsmirtcN"
      },
      "execution_count": 196,
      "outputs": []
    },
    {
      "cell_type": "code",
      "source": [
        "y_train.shape"
      ],
      "metadata": {
        "colab": {
          "base_uri": "https://localhost:8080/"
        },
        "id": "L3S_dFvGuiIJ",
        "outputId": "c8ddf484-82b5-4671-b675-3cf38dbc0f10"
      },
      "execution_count": 197,
      "outputs": [
        {
          "output_type": "execute_result",
          "data": {
            "text/plain": [
              "(2721, 10)"
            ]
          },
          "metadata": {},
          "execution_count": 197
        }
      ]
    },
    {
      "cell_type": "code",
      "source": [
        "# samples, seq_len, features\n",
        "X_train = np.reshape(X_train, (X_train.shape[0], 1, X_train.shape[1]))\n",
        "X_test = np.reshape(X_test, (X_test.shape[0], 1, X_test.shape[1]))"
      ],
      "metadata": {
        "id": "u49ch2mliv4G"
      },
      "execution_count": 198,
      "outputs": []
    },
    {
      "cell_type": "code",
      "source": [
        "X_train.shape[-1]"
      ],
      "metadata": {
        "colab": {
          "base_uri": "https://localhost:8080/"
        },
        "id": "ccHQ4kk8w7Tw",
        "outputId": "ff350744-45d2-47da-9a0b-276e72b8a8f1"
      },
      "execution_count": 199,
      "outputs": [
        {
          "output_type": "execute_result",
          "data": {
            "text/plain": [
              "10"
            ]
          },
          "metadata": {},
          "execution_count": 199
        }
      ]
    },
    {
      "cell_type": "code",
      "source": [
        "# WINDOW_SIZE = 99\n",
        "\n",
        "# model = keras.Sequential()\n",
        "\n",
        "# model.add(Bidirectional(LSTM(WINDOW_SIZE, return_sequences=True),\n",
        "#                         input_shape=(WINDOW_SIZE, X_train.shape[-1])))\n",
        "# model.add(Dropout(0.2))\n",
        "\n",
        "# model.add(Bidirectional(LSTM((WINDOW_SIZE * 2), return_sequences=True)))\n",
        "# model.add(Dropout(0.2))\n",
        "\n",
        "# model.add(Bidirectional(LSTM(WINDOW_SIZE, return_sequences=False)))\n",
        "# # treba 4\n",
        "# model.add(Dense(1))\n",
        "\n",
        "# model.add(Activation('linear'))\n",
        "\n",
        "WINDOW_SIZE = 4\n",
        "\n",
        "model = keras.Sequential()\n",
        "\n",
        "model.add(Bidirectional(LSTM(WINDOW_SIZE,\n",
        "                        input_shape=(1, X_train.shape[-1]))))\n",
        "model.add(Dropout(0.2))\n",
        "\n",
        "model.add(Dense(1))\n",
        "model.add(Activation('linear'))"
      ],
      "metadata": {
        "id": "ubOz8SaOsJN9"
      },
      "execution_count": 200,
      "outputs": []
    },
    {
      "cell_type": "code",
      "source": [
        "model.compile(\n",
        "    loss='mean_squared_error', \n",
        "    optimizer='adam'\n",
        ")"
      ],
      "metadata": {
        "id": "__wFoJC_NR93"
      },
      "execution_count": 201,
      "outputs": []
    },
    {
      "cell_type": "code",
      "source": [
        "BATCH_SIZE = 256\n",
        "\n",
        "history = model.fit(\n",
        "    X_train, \n",
        "    y_train, \n",
        "    epochs=100, \n",
        "    batch_size=BATCH_SIZE, \n",
        "    validation_split=0.1,\n",
        "    verbose=2\n",
        ")\n",
        "# verbose 1 daje ogroman loss"
      ],
      "metadata": {
        "id": "NDRWfhnuT8Vw",
        "colab": {
          "base_uri": "https://localhost:8080/"
        },
        "outputId": "35f0423d-2008-44b6-c509-33f0ce63b16f"
      },
      "execution_count": 202,
      "outputs": [
        {
          "output_type": "stream",
          "name": "stdout",
          "text": [
            "Epoch 1/100\n",
            "10/10 - 4s - loss: 0.0909 - val_loss: 2.9614e-04 - 4s/epoch - 419ms/step\n",
            "Epoch 2/100\n",
            "10/10 - 0s - loss: 0.0662 - val_loss: 0.0012 - 63ms/epoch - 6ms/step\n",
            "Epoch 3/100\n",
            "10/10 - 0s - loss: 0.0455 - val_loss: 0.0024 - 59ms/epoch - 6ms/step\n",
            "Epoch 4/100\n",
            "10/10 - 0s - loss: 0.0348 - val_loss: 0.0036 - 63ms/epoch - 6ms/step\n",
            "Epoch 5/100\n",
            "10/10 - 0s - loss: 0.0244 - val_loss: 0.0043 - 61ms/epoch - 6ms/step\n",
            "Epoch 6/100\n",
            "10/10 - 0s - loss: 0.0194 - val_loss: 0.0046 - 67ms/epoch - 7ms/step\n",
            "Epoch 7/100\n",
            "10/10 - 0s - loss: 0.0159 - val_loss: 0.0044 - 61ms/epoch - 6ms/step\n",
            "Epoch 8/100\n",
            "10/10 - 0s - loss: 0.0127 - val_loss: 0.0038 - 62ms/epoch - 6ms/step\n",
            "Epoch 9/100\n",
            "10/10 - 0s - loss: 0.0121 - val_loss: 0.0030 - 59ms/epoch - 6ms/step\n",
            "Epoch 10/100\n",
            "10/10 - 0s - loss: 0.0099 - val_loss: 0.0023 - 59ms/epoch - 6ms/step\n",
            "Epoch 11/100\n",
            "10/10 - 0s - loss: 0.0092 - val_loss: 0.0016 - 68ms/epoch - 7ms/step\n",
            "Epoch 12/100\n",
            "10/10 - 0s - loss: 0.0085 - val_loss: 0.0011 - 65ms/epoch - 7ms/step\n",
            "Epoch 13/100\n",
            "10/10 - 0s - loss: 0.0082 - val_loss: 7.9975e-04 - 62ms/epoch - 6ms/step\n",
            "Epoch 14/100\n",
            "10/10 - 0s - loss: 0.0080 - val_loss: 5.6066e-04 - 61ms/epoch - 6ms/step\n",
            "Epoch 15/100\n",
            "10/10 - 0s - loss: 0.0074 - val_loss: 4.1116e-04 - 58ms/epoch - 6ms/step\n",
            "Epoch 16/100\n",
            "10/10 - 0s - loss: 0.0065 - val_loss: 3.0936e-04 - 64ms/epoch - 6ms/step\n",
            "Epoch 17/100\n",
            "10/10 - 0s - loss: 0.0062 - val_loss: 2.3515e-04 - 61ms/epoch - 6ms/step\n",
            "Epoch 18/100\n",
            "10/10 - 0s - loss: 0.0067 - val_loss: 2.0436e-04 - 61ms/epoch - 6ms/step\n",
            "Epoch 19/100\n",
            "10/10 - 0s - loss: 0.0067 - val_loss: 1.8435e-04 - 69ms/epoch - 7ms/step\n",
            "Epoch 20/100\n",
            "10/10 - 0s - loss: 0.0066 - val_loss: 1.7575e-04 - 64ms/epoch - 6ms/step\n",
            "Epoch 21/100\n",
            "10/10 - 0s - loss: 0.0051 - val_loss: 1.7411e-04 - 62ms/epoch - 6ms/step\n",
            "Epoch 22/100\n",
            "10/10 - 0s - loss: 0.0060 - val_loss: 1.8722e-04 - 62ms/epoch - 6ms/step\n",
            "Epoch 23/100\n",
            "10/10 - 0s - loss: 0.0062 - val_loss: 2.0843e-04 - 60ms/epoch - 6ms/step\n",
            "Epoch 24/100\n",
            "10/10 - 0s - loss: 0.0061 - val_loss: 2.1806e-04 - 63ms/epoch - 6ms/step\n",
            "Epoch 25/100\n",
            "10/10 - 0s - loss: 0.0054 - val_loss: 2.0629e-04 - 66ms/epoch - 7ms/step\n",
            "Epoch 26/100\n",
            "10/10 - 0s - loss: 0.0055 - val_loss: 1.9709e-04 - 61ms/epoch - 6ms/step\n",
            "Epoch 27/100\n",
            "10/10 - 0s - loss: 0.0055 - val_loss: 2.1371e-04 - 70ms/epoch - 7ms/step\n",
            "Epoch 28/100\n",
            "10/10 - 0s - loss: 0.0058 - val_loss: 2.4758e-04 - 61ms/epoch - 6ms/step\n",
            "Epoch 29/100\n",
            "10/10 - 0s - loss: 0.0050 - val_loss: 2.7606e-04 - 61ms/epoch - 6ms/step\n",
            "Epoch 30/100\n",
            "10/10 - 0s - loss: 0.0055 - val_loss: 3.1684e-04 - 60ms/epoch - 6ms/step\n",
            "Epoch 31/100\n",
            "10/10 - 0s - loss: 0.0054 - val_loss: 3.3715e-04 - 62ms/epoch - 6ms/step\n",
            "Epoch 32/100\n",
            "10/10 - 0s - loss: 0.0049 - val_loss: 3.4183e-04 - 66ms/epoch - 7ms/step\n",
            "Epoch 33/100\n",
            "10/10 - 0s - loss: 0.0050 - val_loss: 3.2639e-04 - 62ms/epoch - 6ms/step\n",
            "Epoch 34/100\n",
            "10/10 - 0s - loss: 0.0053 - val_loss: 3.2607e-04 - 60ms/epoch - 6ms/step\n",
            "Epoch 35/100\n",
            "10/10 - 0s - loss: 0.0050 - val_loss: 3.4175e-04 - 63ms/epoch - 6ms/step\n",
            "Epoch 36/100\n",
            "10/10 - 0s - loss: 0.0050 - val_loss: 3.7345e-04 - 68ms/epoch - 7ms/step\n",
            "Epoch 37/100\n",
            "10/10 - 0s - loss: 0.0047 - val_loss: 3.8816e-04 - 60ms/epoch - 6ms/step\n",
            "Epoch 38/100\n",
            "10/10 - 0s - loss: 0.0047 - val_loss: 4.1389e-04 - 60ms/epoch - 6ms/step\n",
            "Epoch 39/100\n",
            "10/10 - 0s - loss: 0.0045 - val_loss: 4.2391e-04 - 59ms/epoch - 6ms/step\n",
            "Epoch 40/100\n",
            "10/10 - 0s - loss: 0.0045 - val_loss: 4.1777e-04 - 56ms/epoch - 6ms/step\n",
            "Epoch 41/100\n",
            "10/10 - 0s - loss: 0.0047 - val_loss: 4.0799e-04 - 59ms/epoch - 6ms/step\n",
            "Epoch 42/100\n",
            "10/10 - 0s - loss: 0.0044 - val_loss: 4.1199e-04 - 68ms/epoch - 7ms/step\n",
            "Epoch 43/100\n",
            "10/10 - 0s - loss: 0.0042 - val_loss: 4.3268e-04 - 64ms/epoch - 6ms/step\n",
            "Epoch 44/100\n",
            "10/10 - 0s - loss: 0.0046 - val_loss: 4.3700e-04 - 62ms/epoch - 6ms/step\n",
            "Epoch 45/100\n",
            "10/10 - 0s - loss: 0.0041 - val_loss: 4.2363e-04 - 65ms/epoch - 6ms/step\n",
            "Epoch 46/100\n",
            "10/10 - 0s - loss: 0.0041 - val_loss: 3.9968e-04 - 62ms/epoch - 6ms/step\n",
            "Epoch 47/100\n",
            "10/10 - 0s - loss: 0.0042 - val_loss: 4.1408e-04 - 62ms/epoch - 6ms/step\n",
            "Epoch 48/100\n",
            "10/10 - 0s - loss: 0.0044 - val_loss: 4.3361e-04 - 62ms/epoch - 6ms/step\n",
            "Epoch 49/100\n",
            "10/10 - 0s - loss: 0.0049 - val_loss: 4.4077e-04 - 77ms/epoch - 8ms/step\n",
            "Epoch 50/100\n",
            "10/10 - 0s - loss: 0.0044 - val_loss: 3.8962e-04 - 59ms/epoch - 6ms/step\n",
            "Epoch 51/100\n",
            "10/10 - 0s - loss: 0.0041 - val_loss: 3.6484e-04 - 59ms/epoch - 6ms/step\n",
            "Epoch 52/100\n",
            "10/10 - 0s - loss: 0.0040 - val_loss: 3.9561e-04 - 63ms/epoch - 6ms/step\n",
            "Epoch 53/100\n",
            "10/10 - 0s - loss: 0.0043 - val_loss: 4.5651e-04 - 60ms/epoch - 6ms/step\n",
            "Epoch 54/100\n",
            "10/10 - 0s - loss: 0.0040 - val_loss: 4.4394e-04 - 60ms/epoch - 6ms/step\n",
            "Epoch 55/100\n",
            "10/10 - 0s - loss: 0.0039 - val_loss: 3.9556e-04 - 61ms/epoch - 6ms/step\n",
            "Epoch 56/100\n",
            "10/10 - 0s - loss: 0.0039 - val_loss: 3.9456e-04 - 79ms/epoch - 8ms/step\n",
            "Epoch 57/100\n",
            "10/10 - 0s - loss: 0.0039 - val_loss: 3.9468e-04 - 70ms/epoch - 7ms/step\n",
            "Epoch 58/100\n",
            "10/10 - 0s - loss: 0.0048 - val_loss: 4.3832e-04 - 71ms/epoch - 7ms/step\n",
            "Epoch 59/100\n",
            "10/10 - 0s - loss: 0.0040 - val_loss: 4.4117e-04 - 59ms/epoch - 6ms/step\n",
            "Epoch 60/100\n",
            "10/10 - 0s - loss: 0.0041 - val_loss: 4.2085e-04 - 64ms/epoch - 6ms/step\n",
            "Epoch 61/100\n",
            "10/10 - 0s - loss: 0.0037 - val_loss: 3.6310e-04 - 61ms/epoch - 6ms/step\n",
            "Epoch 62/100\n",
            "10/10 - 0s - loss: 0.0040 - val_loss: 3.4418e-04 - 66ms/epoch - 7ms/step\n",
            "Epoch 63/100\n",
            "10/10 - 0s - loss: 0.0040 - val_loss: 3.7886e-04 - 79ms/epoch - 8ms/step\n",
            "Epoch 64/100\n",
            "10/10 - 0s - loss: 0.0039 - val_loss: 4.0063e-04 - 62ms/epoch - 6ms/step\n",
            "Epoch 65/100\n",
            "10/10 - 0s - loss: 0.0036 - val_loss: 3.9596e-04 - 64ms/epoch - 6ms/step\n",
            "Epoch 66/100\n",
            "10/10 - 0s - loss: 0.0039 - val_loss: 3.7582e-04 - 62ms/epoch - 6ms/step\n",
            "Epoch 67/100\n",
            "10/10 - 0s - loss: 0.0041 - val_loss: 3.7470e-04 - 76ms/epoch - 8ms/step\n",
            "Epoch 68/100\n",
            "10/10 - 0s - loss: 0.0040 - val_loss: 3.5276e-04 - 62ms/epoch - 6ms/step\n",
            "Epoch 69/100\n",
            "10/10 - 0s - loss: 0.0039 - val_loss: 3.7408e-04 - 60ms/epoch - 6ms/step\n",
            "Epoch 70/100\n",
            "10/10 - 0s - loss: 0.0038 - val_loss: 3.4332e-04 - 65ms/epoch - 6ms/step\n",
            "Epoch 71/100\n",
            "10/10 - 0s - loss: 0.0032 - val_loss: 3.1061e-04 - 58ms/epoch - 6ms/step\n",
            "Epoch 72/100\n",
            "10/10 - 0s - loss: 0.0039 - val_loss: 3.5624e-04 - 84ms/epoch - 8ms/step\n",
            "Epoch 73/100\n",
            "10/10 - 0s - loss: 0.0036 - val_loss: 3.5765e-04 - 63ms/epoch - 6ms/step\n",
            "Epoch 74/100\n",
            "10/10 - 0s - loss: 0.0038 - val_loss: 3.2440e-04 - 65ms/epoch - 7ms/step\n",
            "Epoch 75/100\n",
            "10/10 - 0s - loss: 0.0034 - val_loss: 3.3441e-04 - 62ms/epoch - 6ms/step\n",
            "Epoch 76/100\n",
            "10/10 - 0s - loss: 0.0038 - val_loss: 3.6301e-04 - 65ms/epoch - 6ms/step\n",
            "Epoch 77/100\n",
            "10/10 - 0s - loss: 0.0037 - val_loss: 3.4666e-04 - 60ms/epoch - 6ms/step\n",
            "Epoch 78/100\n",
            "10/10 - 0s - loss: 0.0036 - val_loss: 3.3028e-04 - 77ms/epoch - 8ms/step\n",
            "Epoch 79/100\n",
            "10/10 - 0s - loss: 0.0034 - val_loss: 3.5125e-04 - 61ms/epoch - 6ms/step\n",
            "Epoch 80/100\n",
            "10/10 - 0s - loss: 0.0035 - val_loss: 3.1761e-04 - 60ms/epoch - 6ms/step\n",
            "Epoch 81/100\n",
            "10/10 - 0s - loss: 0.0037 - val_loss: 2.9354e-04 - 60ms/epoch - 6ms/step\n",
            "Epoch 82/100\n",
            "10/10 - 0s - loss: 0.0034 - val_loss: 3.0982e-04 - 59ms/epoch - 6ms/step\n",
            "Epoch 83/100\n",
            "10/10 - 0s - loss: 0.0035 - val_loss: 3.2279e-04 - 67ms/epoch - 7ms/step\n",
            "Epoch 84/100\n",
            "10/10 - 0s - loss: 0.0032 - val_loss: 3.2080e-04 - 59ms/epoch - 6ms/step\n",
            "Epoch 85/100\n",
            "10/10 - 0s - loss: 0.0034 - val_loss: 2.8326e-04 - 61ms/epoch - 6ms/step\n",
            "Epoch 86/100\n",
            "10/10 - 0s - loss: 0.0033 - val_loss: 2.9633e-04 - 60ms/epoch - 6ms/step\n",
            "Epoch 87/100\n",
            "10/10 - 0s - loss: 0.0035 - val_loss: 3.0202e-04 - 77ms/epoch - 8ms/step\n",
            "Epoch 88/100\n",
            "10/10 - 0s - loss: 0.0031 - val_loss: 2.5829e-04 - 60ms/epoch - 6ms/step\n",
            "Epoch 89/100\n",
            "10/10 - 0s - loss: 0.0029 - val_loss: 2.6890e-04 - 59ms/epoch - 6ms/step\n",
            "Epoch 90/100\n",
            "10/10 - 0s - loss: 0.0030 - val_loss: 2.7643e-04 - 61ms/epoch - 6ms/step\n",
            "Epoch 91/100\n",
            "10/10 - 0s - loss: 0.0033 - val_loss: 2.9564e-04 - 59ms/epoch - 6ms/step\n",
            "Epoch 92/100\n",
            "10/10 - 0s - loss: 0.0033 - val_loss: 2.8854e-04 - 62ms/epoch - 6ms/step\n",
            "Epoch 93/100\n",
            "10/10 - 0s - loss: 0.0037 - val_loss: 2.6304e-04 - 59ms/epoch - 6ms/step\n",
            "Epoch 94/100\n",
            "10/10 - 0s - loss: 0.0028 - val_loss: 2.6671e-04 - 59ms/epoch - 6ms/step\n",
            "Epoch 95/100\n",
            "10/10 - 0s - loss: 0.0031 - val_loss: 2.7603e-04 - 62ms/epoch - 6ms/step\n",
            "Epoch 96/100\n",
            "10/10 - 0s - loss: 0.0031 - val_loss: 2.5198e-04 - 66ms/epoch - 7ms/step\n",
            "Epoch 97/100\n",
            "10/10 - 0s - loss: 0.0033 - val_loss: 2.6540e-04 - 61ms/epoch - 6ms/step\n",
            "Epoch 98/100\n",
            "10/10 - 0s - loss: 0.0032 - val_loss: 2.7037e-04 - 62ms/epoch - 6ms/step\n",
            "Epoch 99/100\n",
            "10/10 - 0s - loss: 0.0031 - val_loss: 2.3163e-04 - 58ms/epoch - 6ms/step\n",
            "Epoch 100/100\n",
            "10/10 - 0s - loss: 0.0035 - val_loss: 2.2859e-04 - 62ms/epoch - 6ms/step\n"
          ]
        }
      ]
    },
    {
      "cell_type": "code",
      "source": [
        "model.evaluate(X_test, y_test)"
      ],
      "metadata": {
        "id": "H2bWvZvwUTtN",
        "colab": {
          "base_uri": "https://localhost:8080/"
        },
        "outputId": "0ab9a24f-0442-42fa-fe50-0b384aa9ef59"
      },
      "execution_count": 203,
      "outputs": [
        {
          "output_type": "stream",
          "name": "stdout",
          "text": [
            "86/86 [==============================] - 0s 2ms/step - loss: 4.9590e-04\n"
          ]
        },
        {
          "output_type": "execute_result",
          "data": {
            "text/plain": [
              "0.0004959027864970267"
            ]
          },
          "metadata": {},
          "execution_count": 203
        }
      ]
    },
    {
      "cell_type": "code",
      "source": [
        "plt.plot(history.history['loss'])\n",
        "plt.plot(history.history['val_loss'])\n",
        "plt.title('Model loss through epochs')\n",
        "plt.ylabel('loss')\n",
        "plt.xlabel('epoch')\n",
        "plt.legend(['train', 'test'], loc='best')\n",
        "plt.rcParams['figure.figsize'] = [5, 5]\n",
        "plt.show()"
      ],
      "metadata": {
        "id": "W0KpWf7gUYRg",
        "colab": {
          "base_uri": "https://localhost:8080/",
          "height": 621
        },
        "outputId": "76aa7f62-69ff-4663-9105-ff98768a60c8"
      },
      "execution_count": 204,
      "outputs": [
        {
          "output_type": "display_data",
          "data": {
            "text/plain": [
              "<Figure size 720x720 with 1 Axes>"
            ],
            "image/png": "[encoded data removed]"
          },
          "metadata": {
            "needs_background": "light"
          }
        }
      ]
    },
    {
      "cell_type": "code",
      "source": [
        "train_pred = model.predict(X_train)\n",
        "test_pred = model.predict(X_test)\n",
        "\n",
        "train_pred = scaler.inverse_transform(train_pred)\n",
        "y_train = scaler.inverse_transform(y_train)\n",
        "\n",
        "test_pred = scaler.inverse_transform(test_pred)\n",
        "y_test = scaler.inverse_transform(y_test)"
      ],
      "metadata": {
        "id": "9bLaDDrS0il5"
      },
      "execution_count": 205,
      "outputs": []
    },
    {
      "cell_type": "code",
      "source": [
        "trainPredPlot = np.empty_like(dataset)\n",
        "trainPredPlot[:, :] = np.nan\n",
        "trainPredPlot[1:len(train_pred)+1, :] = train_pred\n",
        "\n",
        "testPredPlot = np.empty_like(dataset)\n",
        "testPredPlot[:, :] = np.nan\n",
        "testPredPlot[1:len(test_pred)+1, :] = test_pred"
      ],
      "metadata": {
        "id": "_rJADkRP4ig4"
      },
      "execution_count": 206,
      "outputs": []
    },
    {
      "cell_type": "code",
      "source": [
        "plt.plot(data['close'], label='Actual')\n",
        "plt.plot(pd.DataFrame(trainPredPlot, columns=['close'], index=data.index).close, label='Training', marker='.')\n",
        "plt.plot(pd.DataFrame(testPredPlot, columns=['close'], index=data.index).close, label='Test')\n",
        "plt.legend(loc='best')\n",
        "plt.rcParams['figure.figsize'] = [10, 10]\n",
        "plt.xlabel('Time [days] (zero is the most recent day)')\n",
        "plt.ylabel('Price')\n",
        "plt.title('Bitcoin price prediction')\n",
        "plt.show()"
      ],
      "metadata": {
        "colab": {
          "base_uri": "https://localhost:8080/",
          "height": 350
        },
        "id": "2rrdfTfj5vd2",
        "outputId": "2f4c7ea9-462d-454e-dfb6-0b131aedcde3"
      },
      "execution_count": 207,
      "outputs": [
        {
          "output_type": "display_data",
          "data": {
            "text/plain": [
              "<Figure size 360x360 with 1 Axes>"
            ],
            "image/png": "[encoded data removed]"
          },
          "metadata": {
            "needs_background": "light"
          }
        }
      ]
    }
  ]
}